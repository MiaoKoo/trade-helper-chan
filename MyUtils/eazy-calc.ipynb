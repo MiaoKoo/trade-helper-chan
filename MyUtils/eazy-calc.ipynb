{
 "cells": [
  {
   "cell_type": "code",
   "execution_count": 1,
   "id": "f70dc422-fbf9-462c-9910-d4b63045cb36",
   "metadata": {
    "execution": {
     "iopub.execute_input": "2024-12-17T03:25:54.441540Z",
     "iopub.status.busy": "2024-12-17T03:25:54.441149Z",
     "iopub.status.idle": "2024-12-17T03:25:54.454555Z",
     "shell.execute_reply": "2024-12-17T03:25:54.453727Z",
     "shell.execute_reply.started": "2024-12-17T03:25:54.441518Z"
    }
   },
   "outputs": [],
   "source": [
    "from utils import stop_long"
   ]
  },
  {
   "cell_type": "code",
   "execution_count": 2,
   "id": "fbf7be08-c85e-44ec-a159-0651b0027e52",
   "metadata": {
    "execution": {
     "iopub.execute_input": "2024-12-17T03:25:54.456733Z",
     "iopub.status.busy": "2024-12-17T03:25:54.456473Z",
     "iopub.status.idle": "2024-12-17T03:25:54.461291Z",
     "shell.execute_reply": "2024-12-17T03:25:54.460358Z",
     "shell.execute_reply.started": "2024-12-17T03:25:54.456712Z"
    }
   },
   "outputs": [
    {
     "name": "stdout",
     "output_type": "stream",
     "text": [
      "risk = 0.008\n",
      "stop long = 1.213\n"
     ]
    }
   ],
   "source": [
    "stop_long(1.205, 1.197)"
   ]
  },
  {
   "cell_type": "code",
   "execution_count": null,
   "id": "1538bbee-998b-4ec4-9ebd-5bd9be94b686",
   "metadata": {},
   "outputs": [],
   "source": []
  }
 ],
 "metadata": {
  "kernelspec": {
   "display_name": "quant-env-lab",
   "language": "python",
   "name": "quant-env"
  },
  "language_info": {
   "codemirror_mode": {
    "name": "ipython",
    "version": 3
   },
   "file_extension": ".py",
   "mimetype": "text/x-python",
   "name": "python",
   "nbconvert_exporter": "python",
   "pygments_lexer": "ipython3",
   "version": "3.8.16"
  }
 },
 "nbformat": 4,
 "nbformat_minor": 5
}
